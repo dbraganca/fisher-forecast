{
 "cells": [
  {
   "cell_type": "code",
   "execution_count": 2,
   "metadata": {},
   "outputs": [],
   "source": [
    "from getplin import *"
   ]
  },
  {
   "cell_type": "code",
   "execution_count": 3,
   "metadata": {},
   "outputs": [],
   "source": [
    "Placknumin = getalldics(0.57,3.044,0.965,0.673, 0.31642,0.02237,0.06)\n",
    "Placknuminf = getalldicsforf(0.57,3.044,0.965,0.673, 0.31642,0.02237,0.06)"
   ]
  },
  {
   "cell_type": "code",
   "execution_count": 4,
   "metadata": {},
   "outputs": [
    {
     "ename": "FileExistsError",
     "evalue": "[Errno 17] File exists: 'CMASSpks'",
     "output_type": "error",
     "traceback": [
      "\u001b[0;31m---------------------------------------------------------------------------\u001b[0m",
      "\u001b[0;31mFileExistsError\u001b[0m                           Traceback (most recent call last)",
      "Input \u001b[0;32mIn [4]\u001b[0m, in \u001b[0;36m<cell line: 1>\u001b[0;34m()\u001b[0m\n\u001b[0;32m----> 1\u001b[0m \u001b[43mallsavedT\u001b[49m\u001b[43m(\u001b[49m\u001b[43mPlacknumin\u001b[49m\u001b[43m,\u001b[49m\u001b[43mPlacknuminf\u001b[49m\u001b[43m,\u001b[49m\u001b[38;5;124;43m'\u001b[39;49m\u001b[38;5;124;43mCMASSpks\u001b[39;49m\u001b[38;5;124;43m'\u001b[39;49m\u001b[43m)\u001b[49m\n",
      "File \u001b[0;32m~/Dropbox (Cambridge University)/Mac/Documents/Stanford/bais loop bispectrum/Final_code/EFTBispectrum/Fisher produce results 3/plins/getplin.py:168\u001b[0m, in \u001b[0;36mallsavedT\u001b[0;34m(dics, dicsf, folder)\u001b[0m\n\u001b[1;32m    166\u001b[0m pks \u001b[38;5;241m=\u001b[39m getallpks(dics)\n\u001b[1;32m    167\u001b[0m Ts \u001b[38;5;241m=\u001b[39m getallTs(dics)\n\u001b[0;32m--> 168\u001b[0m \u001b[43msavepkandfandT\u001b[49m\u001b[43m(\u001b[49m\u001b[43mpks\u001b[49m\u001b[43m,\u001b[49m\u001b[43mTs\u001b[49m\u001b[43m,\u001b[49m\u001b[43mfs\u001b[49m\u001b[43m,\u001b[49m\u001b[43mfolder\u001b[49m\u001b[43m)\u001b[49m\n",
      "File \u001b[0;32m~/Dropbox (Cambridge University)/Mac/Documents/Stanford/bais loop bispectrum/Final_code/EFTBispectrum/Fisher produce results 3/plins/getplin.py:153\u001b[0m, in \u001b[0;36msavepkandfandT\u001b[0;34m(pks, Ts, fs, folder)\u001b[0m\n\u001b[1;32m    152\u001b[0m \u001b[38;5;28;01mdef\u001b[39;00m \u001b[38;5;21msavepkandfandT\u001b[39m(pks,Ts,fs,folder):\n\u001b[0;32m--> 153\u001b[0m     \u001b[43mos\u001b[49m\u001b[38;5;241;43m.\u001b[39;49m\u001b[43mmkdir\u001b[49m\u001b[43m(\u001b[49m\u001b[43mfolder\u001b[49m\u001b[43m)\u001b[49m\n\u001b[1;32m    154\u001b[0m     \u001b[38;5;28;01mfor\u001b[39;00m i \u001b[38;5;129;01min\u001b[39;00m \u001b[38;5;28mrange\u001b[39m(\u001b[38;5;28mlen\u001b[39m(pks)\u001b[38;5;241m-\u001b[39m\u001b[38;5;241m1\u001b[39m):\n\u001b[1;32m    155\u001b[0m         np\u001b[38;5;241m.\u001b[39msavetxt(os\u001b[38;5;241m.\u001b[39mpath\u001b[38;5;241m.\u001b[39mjoin(folder, \u001b[38;5;124m'\u001b[39m\u001b[38;5;124mpk_\u001b[39m\u001b[38;5;124m'\u001b[39m\u001b[38;5;241m+\u001b[39mnames[i] \u001b[38;5;241m+\u001b[39m \u001b[38;5;124m'\u001b[39m\u001b[38;5;124m.dat\u001b[39m\u001b[38;5;124m'\u001b[39m), np\u001b[38;5;241m.\u001b[39mtranspose(np\u001b[38;5;241m.\u001b[39marray([pks[\u001b[38;5;241m0\u001b[39m],pks[i\u001b[38;5;241m+\u001b[39m\u001b[38;5;241m1\u001b[39m]])))\n",
      "\u001b[0;31mFileExistsError\u001b[0m: [Errno 17] File exists: 'CMASSpks'"
     ]
    }
   ],
   "source": [
    "allsavedT(Placknumin,Placknuminf,'CMASSpks')"
   ]
  },
  {
   "cell_type": "code",
   "execution_count": null,
   "metadata": {},
   "outputs": [],
   "source": [
    "Placknuminlowz = getalldics(0.32,3.044,0.965,0.673, 0.31642,0.02237,0.06)\n",
    "Placknuminflowz = getalldicsforf(0.32,3.044,0.965,0.673, 0.31642,0.02237,0.06)"
   ]
  },
  {
   "cell_type": "code",
   "execution_count": null,
   "metadata": {},
   "outputs": [],
   "source": [
    "allsavedT(Placknuminlowz,Placknuminflowz,'LOWZpks')"
   ]
  },
  {
   "cell_type": "markdown",
   "metadata": {},
   "source": [
    "Neutrino Mass at 0.3ev"
   ]
  },
  {
   "cell_type": "code",
   "execution_count": 5,
   "metadata": {},
   "outputs": [],
   "source": [
    "PlacknuminN = getalldics(0.57,3.044,0.965,0.673, 0.322106,0.02237,0.3)\n",
    "PlacknuminfN = getalldicsforf(0.57,3.044,0.965,0.673, 0.322106,0.02237,0.3)"
   ]
  },
  {
   "cell_type": "code",
   "execution_count": 6,
   "metadata": {},
   "outputs": [],
   "source": [
    "allsavedT(PlacknuminN,PlacknuminfN,'CMASSpksN')"
   ]
  },
  {
   "cell_type": "code",
   "execution_count": 7,
   "metadata": {},
   "outputs": [],
   "source": [
    "PlacknuminlowzN = getalldics(0.32,3.044,0.965,0.673, 0.322106,0.02237,0.3)\n",
    "PlacknuminflowzN = getalldicsforf(0.32,3.044,0.965,0.673, 0.322106,0.02237,0.3)"
   ]
  },
  {
   "cell_type": "code",
   "execution_count": 11,
   "metadata": {},
   "outputs": [],
   "source": [
    "allsavedT(PlacknuminlowzN,PlacknuminflowzN,'LOWZpksN')"
   ]
  },
  {
   "cell_type": "code",
   "execution_count": 12,
   "metadata": {},
   "outputs": [],
   "source": [
    "PlacknuminDESIlowN = getalldics(0.84,3.044,0.965,0.673, 0.322106,0.02237,0.3)\n",
    "PlacknuminfDESIlowN = getalldicsforf(0.84,3.044,0.965,0.673, 0.322106,0.02237,0.3)"
   ]
  },
  {
   "cell_type": "code",
   "execution_count": 13,
   "metadata": {},
   "outputs": [],
   "source": [
    "PlacknuminDESIhighN = getalldics(1.22,3.044,0.965,0.673, 0.322106,0.02237,0.3)\n",
    "PlacknuminfDESIhighN = getalldicsforf(1.22,3.044,0.965,0.673, 0.322106,0.02237,0.3)"
   ]
  },
  {
   "cell_type": "code",
   "execution_count": null,
   "metadata": {},
   "outputs": [],
   "source": [
    "allsavedT(PlacknuminDESIlowN,PlacknuminfDESIlowN,'DESIlN')\n",
    "allsavedT(PlacknuminDESIhighN,PlacknuminfDESIhighN,'DESIhN')"
   ]
  },
  {
   "cell_type": "code",
   "execution_count": 3,
   "metadata": {},
   "outputs": [],
   "source": [
    "PlacknuminhighzDESIN = getalldics(1.5,3.044,0.965,0.673, 0.322106,0.02237,0.3)\n",
    "PlacknuminfhighzDESIN = getalldicsforf(1.5,3.044,0.965,0.673, 0.322106,0.02237,0.3)"
   ]
  },
  {
   "cell_type": "code",
   "execution_count": 4,
   "metadata": {},
   "outputs": [],
   "source": [
    "allsavedT(PlacknuminhighzDESIN,PlacknuminfhighzDESIN,'DESItohigh')"
   ]
  },
  {
   "cell_type": "code",
   "execution_count": 5,
   "metadata": {},
   "outputs": [],
   "source": [
    "redshifts= np.array([0.15, 0.25, 0.35, 0.45, 0.55, 0.65, 0.75, 0.85, 0.95, 1.05, 1.15, \\\n",
    "1.25, 1.35, 1.45, 1.55, 1.65, 1.75, 1.85])"
   ]
  },
  {
   "cell_type": "code",
   "execution_count": 2,
   "metadata": {},
   "outputs": [],
   "source": [
    "PlacknuminMMolowN = getalldics(2.36,3.044,0.965,0.673, 0.322106,0.02237,0.3)\n",
    "PlacknuminfMMolowN = getalldicsforf(2.36,3.044,0.965,0.673, 0.322106,0.02237,0.3)"
   ]
  },
  {
   "cell_type": "code",
   "execution_count": 10,
   "metadata": {},
   "outputs": [],
   "source": [
    "PlacknuminMMplowN = getalldics(2.11,3.044,0.965,0.673, 0.322106,0.02237,0.3)\n",
    "PlacknuminfMMplowN = getalldicsforf(2.11,3.044,0.965,0.673, 0.322106,0.02237,0.3)"
   ]
  },
  {
   "cell_type": "code",
   "execution_count": 3,
   "metadata": {},
   "outputs": [],
   "source": [
    "PlacknuminMMohighzN = getalldics(4.28,3.044,0.965,0.673, 0.322106,0.02237,0.3)\n",
    "PlacknuminfMMohighzN = getalldicsforf(4.28,3.044,0.965,0.673, 0.322106,0.02237,0.3)"
   ]
  },
  {
   "cell_type": "code",
   "execution_count": 11,
   "metadata": {},
   "outputs": [],
   "source": [
    "PlacknuminMMphighzN = getalldics(4.26,3.044,0.965,0.673, 0.322106,0.02237,0.3)\n",
    "PlacknuminfMMphighzN = getalldicsforf(4.26,3.044,0.965,0.673, 0.322106,0.02237,0.3)"
   ]
  },
  {
   "cell_type": "code",
   "execution_count": 5,
   "metadata": {},
   "outputs": [],
   "source": [
    "allsavedT(PlacknuminMMolowN,PlacknuminfMMolowN,'MMo1N')\n",
    "allsavedT(PlacknuminMMohighzN,PlacknuminfMMohighzN,'MMo2N')"
   ]
  },
  {
   "cell_type": "code",
   "execution_count": 12,
   "metadata": {},
   "outputs": [],
   "source": [
    "allsavedT(PlacknuminMMplowN,PlacknuminfMMplowN,'MMp1N')\n",
    "allsavedT(PlacknuminMMphighzN,PlacknuminfMMphighzN,'MMp2N')"
   ]
  },
  {
   "cell_type": "code",
   "execution_count": 8,
   "metadata": {},
   "outputs": [],
   "source": [
    "allsavedT(PlacknuminMMolowN,PlacknuminfMMolowN,'MMo1N')\n",
    "allsavedT(PlacknuminMMohighzN,PlacknuminfMMohighzN,'MMo2N')"
   ]
  },
  {
   "cell_type": "code",
   "execution_count": null,
   "metadata": {},
   "outputs": [],
   "source": [
    "np.savetxt(os.path.join(folder, 'pk_'+names[i] + '.dat'), np.transpose(np.array([pks[0],pks[i+1]])))"
   ]
  },
  {
   "cell_type": "code",
   "execution_count": 26,
   "metadata": {},
   "outputs": [],
   "source": [
    "pk=[]"
   ]
  },
  {
   "cell_type": "code",
   "execution_count": 27,
   "metadata": {},
   "outputs": [],
   "source": [
    "for i in range(len(redshifts)):\n",
    "    pk.append(getpk(cosmicdicn(redshifts[i],3.044,0.965,0.673, 0.31642,0.02237,0.06)))"
   ]
  },
  {
   "cell_type": "code",
   "execution_count": 28,
   "metadata": {},
   "outputs": [],
   "source": [
    "pk.append(kk)"
   ]
  },
  {
   "cell_type": "code",
   "execution_count": 31,
   "metadata": {},
   "outputs": [
    {
     "data": {
      "text/plain": [
       "19"
      ]
     },
     "execution_count": 31,
     "metadata": {},
     "output_type": "execute_result"
    }
   ],
   "source": [
    "len(pk)"
   ]
  },
  {
   "cell_type": "code",
   "execution_count": 29,
   "metadata": {},
   "outputs": [],
   "source": [
    "np.savetxt(os.path.join('checkB', 'pks.dat'), np.transpose(np.array(pk)))"
   ]
  },
  {
   "cell_type": "code",
   "execution_count": 22,
   "metadata": {},
   "outputs": [],
   "source": [
    "fs = []"
   ]
  },
  {
   "cell_type": "code",
   "execution_count": 23,
   "metadata": {},
   "outputs": [],
   "source": [
    "for i in range(len(redshifts)):\n",
    "    fs.append(getf(cosmicdicn(redshifts[i],3.044,0.965,0.673, 0.31642,0.02237,0.06)))"
   ]
  },
  {
   "cell_type": "code",
   "execution_count": 8,
   "metadata": {},
   "outputs": [
    {
     "data": {
      "text/plain": [
       "0.5569383574429999"
      ]
     },
     "execution_count": 8,
     "metadata": {},
     "output_type": "execute_result"
    }
   ],
   "source": [
    "getD(PlacknuminDESIhighN[0])"
   ]
  },
  {
   "cell_type": "code",
   "execution_count": 13,
   "metadata": {},
   "outputs": [],
   "source": [
    "DicMMp1 = getalldics(2.11,3.044,0.965,0.673, 0.31642,0.02237,0.3)\n",
    "DicMMp2 = getalldics(4.26,3.044,0.965,0.673, 0.31642,0.02237,0.3)"
   ]
  },
  {
   "cell_type": "code",
   "execution_count": 14,
   "metadata": {},
   "outputs": [
    {
     "data": {
      "text/plain": [
       "0.4076946713668692"
      ]
     },
     "execution_count": 14,
     "metadata": {},
     "output_type": "execute_result"
    }
   ],
   "source": [
    "getD(DicMMp1[0])"
   ]
  },
  {
   "cell_type": "code",
   "execution_count": 15,
   "metadata": {},
   "outputs": [
    {
     "data": {
      "text/plain": [
       "0.24527419781767706"
      ]
     },
     "execution_count": 15,
     "metadata": {},
     "output_type": "execute_result"
    }
   ],
   "source": [
    "getD(DicMMp2[0])"
   ]
  },
  {
   "cell_type": "code",
   "execution_count": 6,
   "metadata": {},
   "outputs": [],
   "source": [
    "DicMMo1 = getalldics(2.36,3.044,0.965,0.673, 0.31642,0.02237,0.3)\n",
    "DicMMo2 = getalldics(4.28,3.044,0.965,0.673, 0.31642,0.02237,0.3)"
   ]
  },
  {
   "cell_type": "code",
   "execution_count": 9,
   "metadata": {},
   "outputs": [
    {
     "data": {
      "text/plain": [
       "0.3787326788569277"
      ]
     },
     "execution_count": 9,
     "metadata": {},
     "output_type": "execute_result"
    }
   ],
   "source": [
    "getD(DicMMo1[0])"
   ]
  },
  {
   "cell_type": "code",
   "execution_count": 8,
   "metadata": {},
   "outputs": [
    {
     "data": {
      "text/plain": [
       "0.2443657863059845"
      ]
     },
     "execution_count": 8,
     "metadata": {},
     "output_type": "execute_result"
    }
   ],
   "source": [
    "getD(DicMMo2[0])"
   ]
  },
  {
   "cell_type": "code",
   "execution_count": 19,
   "metadata": {},
   "outputs": [
    {
     "data": {
      "text/plain": [
       "0.36420454269154146"
      ]
     },
     "execution_count": 19,
     "metadata": {},
     "output_type": "execute_result"
    }
   ],
   "source": [
    "1.05/D(z)"
   ]
  },
  {
   "cell_type": "code",
   "execution_count": 26,
   "metadata": {},
   "outputs": [
    {
     "data": {
      "text/plain": [
       "4.201354020826548"
      ]
     },
     "execution_count": 26,
     "metadata": {},
     "output_type": "execute_result"
    }
   ],
   "source": [
    "1.05/getD(PlacknuminMMhighzN[0])"
   ]
  },
  {
   "cell_type": "code",
   "execution_count": 15,
   "metadata": {},
   "outputs": [
    {
     "data": {
      "text/plain": [
       "0.36420454269154146"
      ]
     },
     "execution_count": 15,
     "metadata": {},
     "output_type": "execute_result"
    }
   ],
   "source": [
    "getD(PlacknuminMMlowN[0])"
   ]
  },
  {
   "cell_type": "code",
   "execution_count": 6,
   "metadata": {},
   "outputs": [],
   "source": [
    "test1 = getalldics(0,3.044,0.965,0.673, 0.31642,0.02237,0.3)"
   ]
  },
  {
   "cell_type": "code",
   "execution_count": 3,
   "metadata": {},
   "outputs": [],
   "source": [
    "ztab = np.array([0.05, 0.15, 0.25, 0.35, 0.45, 0.55, 0.65, 0.75])"
   ]
  },
  {
   "cell_type": "code",
   "execution_count": 4,
   "metadata": {},
   "outputs": [],
   "source": [
    "pks = []"
   ]
  },
  {
   "cell_type": "code",
   "execution_count": 7,
   "metadata": {},
   "outputs": [],
   "source": [
    "pks.append(kk)"
   ]
  },
  {
   "cell_type": "code",
   "execution_count": 8,
   "metadata": {},
   "outputs": [],
   "source": [
    "for i in range(len(ztab)):\n",
    "    pks.append(getpk(cosmicdicn(ztab[i],3.044,0.965,0.673, 0.31642,0.02237,0.3)))\n",
    "    \n",
    "    "
   ]
  },
  {
   "cell_type": "code",
   "execution_count": 9,
   "metadata": {},
   "outputs": [
    {
     "ename": "NameError",
     "evalue": "name 'cosmicdicpksn' is not defined",
     "output_type": "error",
     "traceback": [
      "\u001b[0;31m---------------------------------------------------------------------------\u001b[0m",
      "\u001b[0;31mNameError\u001b[0m                                 Traceback (most recent call last)",
      "Input \u001b[0;32mIn [9]\u001b[0m, in \u001b[0;36m<cell line: 1>\u001b[0;34m()\u001b[0m\n\u001b[0;32m----> 1\u001b[0m getpk(\u001b[43mcosmicdicpksn\u001b[49m(\u001b[38;5;241m0.2\u001b[39m,\u001b[38;5;241m3.044\u001b[39m,\u001b[38;5;241m0.965\u001b[39m,\u001b[38;5;241m0.673\u001b[39m, \u001b[38;5;241m0.31642\u001b[39m,\u001b[38;5;241m0.02237\u001b[39m,\u001b[38;5;241m0.3\u001b[39m))\n",
      "\u001b[0;31mNameError\u001b[0m: name 'cosmicdicpksn' is not defined"
     ]
    }
   ],
   "source": [
    "getpk(cosmicdicpksn(0.2,3.044,0.965,0.673, 0.31642,0.02237,0.3))"
   ]
  },
  {
   "cell_type": "code",
   "execution_count": 11,
   "metadata": {},
   "outputs": [],
   "source": [
    "folder = 'BOSSallbins'"
   ]
  },
  {
   "cell_type": "code",
   "execution_count": 12,
   "metadata": {},
   "outputs": [],
   "source": [
    "os.mkdir(folder)"
   ]
  },
  {
   "cell_type": "code",
   "execution_count": 15,
   "metadata": {},
   "outputs": [],
   "source": [
    "names = np.array(['05','15','25','35','45','55','65','75'])"
   ]
  },
  {
   "cell_type": "code",
   "execution_count": 16,
   "metadata": {},
   "outputs": [],
   "source": [
    "for i in range(len(pks)-1):\n",
    "    np.savetxt(os.path.join(folder, 'pk_'+names[i] + '.dat'), np.transpose(np.array([pks[0],pks[i+1]])))"
   ]
  },
  {
   "cell_type": "code",
   "execution_count": 26,
   "metadata": {},
   "outputs": [],
   "source": [
    "growth = []"
   ]
  },
  {
   "cell_type": "code",
   "execution_count": 18,
   "metadata": {},
   "outputs": [],
   "source": [
    "for i in range(len(ztab)):\n",
    "    growth.append(getD(cosmicdicn(ztab[i],3.044,0.965,0.673, 0.31642,0.02237,0.3)))\n",
    "    \n",
    "    "
   ]
  },
  {
   "cell_type": "code",
   "execution_count": 23,
   "metadata": {},
   "outputs": [
    {
     "data": {
      "text/plain": [
       "0.7449704148232558"
      ]
     },
     "execution_count": 23,
     "metadata": {},
     "output_type": "execute_result"
    }
   ],
   "source": [
    "getD(cosmicdicn(0.57,3.044,0.965,0.673, 0.31642,0.02237,0.3))"
   ]
  },
  {
   "cell_type": "code",
   "execution_count": 24,
   "metadata": {},
   "outputs": [
    {
     "data": {
      "text/plain": [
       "0.8455802559185244"
      ]
     },
     "execution_count": 24,
     "metadata": {},
     "output_type": "execute_result"
    }
   ],
   "source": [
    "getD(cosmicdicn(0.32,3.044,0.965,0.673, 0.31642,0.02237,0.3))"
   ]
  },
  {
   "cell_type": "code",
   "execution_count": 20,
   "metadata": {},
   "outputs": [],
   "source": [
    "grate= []"
   ]
  },
  {
   "cell_type": "code",
   "execution_count": 21,
   "metadata": {},
   "outputs": [],
   "source": [
    "for i in range(len(ztab)):\n",
    "    grate.append(getf(cosmicdicn(ztab[i],3.044,0.965,0.673, 0.31642,0.02237,0.3)))\n",
    "    \n",
    "    "
   ]
  },
  {
   "cell_type": "code",
   "execution_count": 22,
   "metadata": {},
   "outputs": [
    {
     "data": {
      "text/plain": [
       "[0.5505691478621921,\n",
       " 0.605295980688119,\n",
       " 0.6541675497977562,\n",
       " 0.697208424265646,\n",
       " 0.7347223934446799,\n",
       " 0.7671789591953987,\n",
       " 0.7951240646380944,\n",
       " 0.8191175994924873]"
      ]
     },
     "execution_count": 22,
     "metadata": {},
     "output_type": "execute_result"
    }
   ],
   "source": [
    "grate"
   ]
  },
  {
   "cell_type": "code",
   "execution_count": 25,
   "metadata": {},
   "outputs": [],
   "source": [
    "ztabdesi = np.array([0.65, 0.75, 0.85, 0.95, 1.05, 1.15, 1.25, 1.35, 1.45, 1.55, 1.65, 1.75, 1.85])"
   ]
  },
  {
   "cell_type": "code",
   "execution_count": 32,
   "metadata": {},
   "outputs": [],
   "source": [
    "growthD =[]\n",
    "for i in range(len(ztabdesi)):\n",
    "    growthD.append(getD(cosmicdicn(ztabdesi[i],3.044,0.965,0.673, 0.31642,0.02237,0.3)))"
   ]
  },
  {
   "cell_type": "code",
   "execution_count": 28,
   "metadata": {},
   "outputs": [
    {
     "data": {
      "text/plain": [
       "[0.7164923688240663,\n",
       " 0.6832529172629023,\n",
       " 0.6524704012337649,\n",
       " 0.6239615964853032,\n",
       " 0.5975437205747932,\n",
       " 0.5730406048302036,\n",
       " 0.5502862800124096,\n",
       " 0.5291267905166499,\n",
       " 0.5094208405160038,\n",
       " 0.49103970003058245,\n",
       " 0.4738666675011355,\n",
       " 0.45779628727563393,\n",
       " 0.44273345354656896]"
      ]
     },
     "execution_count": 28,
     "metadata": {},
     "output_type": "execute_result"
    }
   ],
   "source": [
    "growthD"
   ]
  },
  {
   "cell_type": "code",
   "execution_count": 31,
   "metadata": {},
   "outputs": [],
   "source": [
    "grateD = []\n",
    "for i in range(len(ztabdesi)):\n",
    "    grateD.append(getf(cosmicdicn(ztabdesi[i],3.044,0.965,0.673, 0.31642,0.02237,0.3)))\n",
    "    \n",
    "    "
   ]
  },
  {
   "cell_type": "code",
   "execution_count": 33,
   "metadata": {},
   "outputs": [
    {
     "data": {
      "text/plain": [
       "[0.7951240646380944,\n",
       " 0.8191175994924873,\n",
       " 0.8396943065166335,\n",
       " 0.8573425038945715,\n",
       " 0.8724950450882615,\n",
       " 0.8855279688525093,\n",
       " 0.8967635251826511,\n",
       " 0.9064753656562455,\n",
       " 0.914894519677635,\n",
       " 0.922215360814455,\n",
       " 0.9286011464069055,\n",
       " 0.9341889454467468,\n",
       " 0.9390939062576131]"
      ]
     },
     "execution_count": 33,
     "metadata": {},
     "output_type": "execute_result"
    }
   ],
   "source": [
    "grateD"
   ]
  },
  {
   "cell_type": "code",
   "execution_count": 34,
   "metadata": {},
   "outputs": [
    {
     "data": {
      "text/plain": [
       "0.6554432904209017"
      ]
     },
     "execution_count": 34,
     "metadata": {},
     "output_type": "execute_result"
    }
   ],
   "source": [
    "getD(cosmicdicn(0.84,3.044,0.965,0.673, 0.31642,0.02237,0.3))"
   ]
  },
  {
   "cell_type": "code",
   "execution_count": 35,
   "metadata": {},
   "outputs": [
    {
     "data": {
      "text/plain": [
       "0.5569383574429999"
      ]
     },
     "execution_count": 35,
     "metadata": {},
     "output_type": "execute_result"
    }
   ],
   "source": [
    "getD(cosmicdicn(1.22,3.044,0.965,0.673, 0.31642,0.02237,0.3))"
   ]
  },
  {
   "cell_type": "code",
   "execution_count": 36,
   "metadata": {},
   "outputs": [],
   "source": [
    "ztabMopt = np.array([2, 2.5, 3, 3.5, 4, 4.5, 5])"
   ]
  },
  {
   "cell_type": "code",
   "execution_count": 38,
   "metadata": {},
   "outputs": [],
   "source": [
    "grateM = []\n",
    "for i in range(len(ztabMopt)):\n",
    "    grateM.append(getf(cosmicdicn(ztabMopt[i],3.044,0.965,0.673, 0.31642,0.02237,0.3)))\n",
    "    \n",
    "    "
   ]
  },
  {
   "cell_type": "code",
   "execution_count": 40,
   "metadata": {},
   "outputs": [],
   "source": [
    "growthM =[]\n",
    "for i in range(len(ztabMopt)):\n",
    "    growthM.append(getD(cosmicdicn(ztabMopt[i],3.044,0.965,0.673, 0.31642,0.02237,0.3)))"
   ]
  },
  {
   "cell_type": "code",
   "execution_count": 41,
   "metadata": {},
   "outputs": [
    {
     "data": {
      "text/plain": [
       "[0.4218432700320637,\n",
       " 0.36420454269154146,\n",
       " 0.3202062843007084,\n",
       " 0.28560903262036486,\n",
       " 0.25772882630869365,\n",
       " 0.23479999147131309,\n",
       " 0.21561945123476095]"
      ]
     },
     "execution_count": 41,
     "metadata": {},
     "output_type": "execute_result"
    }
   ],
   "source": [
    "growthM"
   ]
  },
  {
   "cell_type": "code",
   "execution_count": 42,
   "metadata": {},
   "outputs": [
    {
     "data": {
      "text/plain": [
       "[0.9453786646849289,\n",
       " 0.9597718746270623,\n",
       " 0.9680891481945141,\n",
       " 0.9731803505913084,\n",
       " 0.9764457658964426,\n",
       " 0.9786202870726423,\n",
       " 0.9801124389970047]"
      ]
     },
     "execution_count": 42,
     "metadata": {},
     "output_type": "execute_result"
    }
   ],
   "source": [
    "grateM"
   ]
  },
  {
   "cell_type": "code",
   "execution_count": 43,
   "metadata": {},
   "outputs": [
    {
     "data": {
      "text/plain": [
       "0.36420454269154146"
      ]
     },
     "execution_count": 43,
     "metadata": {},
     "output_type": "execute_result"
    }
   ],
   "source": [
    "getD(cosmicdicn(2.5,3.044,0.965,0.673, 0.31642,0.02237,0.3))"
   ]
  },
  {
   "cell_type": "code",
   "execution_count": 44,
   "metadata": {},
   "outputs": [
    {
     "data": {
      "text/plain": [
       "0.2499194294970243"
      ]
     },
     "execution_count": 44,
     "metadata": {},
     "output_type": "execute_result"
    }
   ],
   "source": [
    "getD(cosmicdicn(4.16,3.044,0.965,0.673, 0.31642,0.02237,0.3))"
   ]
  },
  {
   "cell_type": "code",
   "execution_count": null,
   "metadata": {},
   "outputs": [],
   "source": []
  }
 ],
 "metadata": {
  "kernelspec": {
   "display_name": "Python 3 (ipykernel)",
   "language": "python",
   "name": "python3"
  },
  "language_info": {
   "codemirror_mode": {
    "name": "ipython",
    "version": 3
   },
   "file_extension": ".py",
   "mimetype": "text/x-python",
   "name": "python",
   "nbconvert_exporter": "python",
   "pygments_lexer": "ipython3",
   "version": "3.9.12"
  }
 },
 "nbformat": 4,
 "nbformat_minor": 4
}
