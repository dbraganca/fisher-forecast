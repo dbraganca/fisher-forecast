{
 "cells": [
  {
   "cell_type": "code",
   "execution_count": 1,
   "metadata": {},
   "outputs": [],
   "source": [
    "from getplin import *"
   ]
  },
  {
   "cell_type": "code",
   "execution_count": 2,
   "metadata": {},
   "outputs": [],
   "source": [
    "def getDandf(ztab):\n",
    "    growthD =[]\n",
    "    growthR =[]\n",
    "    for i in range(len(ztab)):\n",
    "        growthD.append(getD(cosmicdicn(ztab[i],3.044,0.965,0.673, 0.322106,0.02237,0.3,0)))\n",
    "        growthR.append(getf(cosmicdicn(ztab[i],3.044,0.965,0.673, 0.322106,0.02237,0.3,0)))\n",
    "    print(growthD)\n",
    "    print(growthR)"
   ]
  },
  {
   "cell_type": "markdown",
   "metadata": {},
   "source": [
    "# BOSS"
   ]
  },
  {
   "cell_type": "code",
   "execution_count": 3,
   "metadata": {},
   "outputs": [],
   "source": [
    "ztabBOSS = np.array([0.05, 0.15, 0.25, 0.35, 0.45, 0.55, 0.65, 0.75])"
   ]
  },
  {
   "cell_type": "code",
   "execution_count": 4,
   "metadata": {},
   "outputs": [
    {
     "name": "stdout",
     "output_type": "stream",
     "text": [
      "[0.9739387136550305, 0.923597836981789, 0.8759572952224958, 0.8312353500171744, 0.7894973539263046, 0.7506997404081855, 0.7147268398976055, 0.6814195172840211]\n",
      "[0.5559799005937992, 0.6106395138125047, 0.659326013360818, 0.702100475721917, 0.739299419658466, 0.7714187036372592, 0.799023714461632, 0.8226875527129272]\n"
     ]
    }
   ],
   "source": [
    "getDandf(ztabBOSS)"
   ]
  },
  {
   "cell_type": "code",
   "execution_count": 5,
   "metadata": {},
   "outputs": [
    {
     "data": {
      "text/plain": [
       "0.743283803819839"
      ]
     },
     "execution_count": 5,
     "metadata": {},
     "output_type": "execute_result"
    }
   ],
   "source": [
    "BOSSdichigh = getalldics(0.57,3.044,0.965,0.673, 0.322106,0.02237,0.3,0)\n",
    "BOSSdichighf = getalldicsforf(0.57,3.044,0.965,0.673, 0.322106,0.02237,0.3,0)\n",
    "getD(cosmicdicn(0.57,3.044,0.965,0.673, 0.322106,0.02237,0.3,0))"
   ]
  },
  {
   "cell_type": "code",
   "execution_count": 6,
   "metadata": {},
   "outputs": [
    {
     "name": "stderr",
     "output_type": "stream",
     "text": [
      "/c/Users/diogo/Dropbox/FFTLog/Diogo_work/Fisher_forecast_project/plins/getplin.py:151: VisibleDeprecationWarning: Creating an ndarray from ragged nested sequences (which is a list-or-tuple of lists-or-tuples-or ndarrays with different lengths or shapes) is deprecated. If you meant to do this, you must specify 'dtype=object' when creating the ndarray.\n",
      "  return np.array(allT)\n"
     ]
    }
   ],
   "source": [
    "allsavedT(BOSSdichigh,BOSSdichighf,'CMASSpksNk')"
   ]
  },
  {
   "cell_type": "code",
   "execution_count": 7,
   "metadata": {},
   "outputs": [
    {
     "data": {
      "text/plain": [
       "0.8443391196514655"
      ]
     },
     "execution_count": 7,
     "metadata": {},
     "output_type": "execute_result"
    }
   ],
   "source": [
    "BOSSdiclow = getalldics(0.32,3.044,0.965,0.673, 0.322106,0.02237,0.3,0)\n",
    "BOSSdiclowf = getalldicsforf(0.32,3.044,0.965,0.673, 0.322106,0.02237,0.3,0)\n",
    "getD(cosmicdicn(0.32,3.044,0.965,0.673, 0.322106,0.02237,0.3,0))"
   ]
  },
  {
   "cell_type": "code",
   "execution_count": 8,
   "metadata": {},
   "outputs": [],
   "source": [
    "allsavedT(BOSSdiclow,BOSSdiclowf,'LOWZpksNk')"
   ]
  },
  {
   "cell_type": "markdown",
   "metadata": {},
   "source": [
    "# DESI"
   ]
  },
  {
   "cell_type": "code",
   "execution_count": 9,
   "metadata": {},
   "outputs": [],
   "source": [
    "ztabDESI = np.array([0.65, 0.75, 0.85, 0.95, 1.05, 1.15, 1.25, 1.35, 1.45, 1.55,1.65])"
   ]
  },
  {
   "cell_type": "code",
   "execution_count": 10,
   "metadata": {},
   "outputs": [
    {
     "name": "stdout",
     "output_type": "stream",
     "text": [
      "[0.7147268398976055, 0.6814195172840211, 0.6505961593752959, 0.6220672608943169, 0.5956450407211347, 0.5711494009737302, 0.5484113115796513, 0.5272744484842385, 0.507595692655136, 0.48924491664207326, 0.47210435196678247]\n",
      "[0.799023714461632, 0.8226875527129272, 0.8429531428816396, 0.860313235039883, 0.8752024918671703, 0.887997033302145, 0.8990181249903921, 0.9085378342658412, 0.9167853192345022, 0.923952996823696, 0.9302022056485538]\n"
     ]
    }
   ],
   "source": [
    "getDandf(ztabDESI)"
   ]
  },
  {
   "cell_type": "code",
   "execution_count": 11,
   "metadata": {},
   "outputs": [
    {
     "data": {
      "text/plain": [
       "0.6535721061961501"
      ]
     },
     "execution_count": 11,
     "metadata": {},
     "output_type": "execute_result"
    }
   ],
   "source": [
    "DESIdic1 = getalldics(0.84,3.044,0.965,0.673, 0.322106,0.02237,0.3,0)\n",
    "DESIdic1f = getalldicsforf(0.84,3.044,0.965,0.673, 0.322106,0.02237,0.3,0)\n",
    "getD(cosmicdicn(0.84,3.044,0.965,0.673, 0.322106,0.02237,0.3,0))"
   ]
  },
  {
   "cell_type": "code",
   "execution_count": 12,
   "metadata": {},
   "outputs": [],
   "source": [
    "allsavedT(DESIdic1,DESIdic1f,'DESIlNk')"
   ]
  },
  {
   "cell_type": "code",
   "execution_count": 13,
   "metadata": {},
   "outputs": [
    {
     "data": {
      "text/plain": [
       "0.5528260185623475"
      ]
     },
     "execution_count": 13,
     "metadata": {},
     "output_type": "execute_result"
    }
   ],
   "source": [
    "DESIdic2 = getalldics(1.23,3.044,0.965,0.673, 0.322106,0.02237,0.3,0)\n",
    "DESIdic2f = getalldicsforf(1.23,3.044,0.965,0.673, 0.322106,0.02237,0.3,0)\n",
    "getD(cosmicdicn(1.23,3.044,0.965,0.673, 0.322106,0.02237,0.3,0))"
   ]
  },
  {
   "cell_type": "code",
   "execution_count": 14,
   "metadata": {},
   "outputs": [],
   "source": [
    "allsavedT(DESIdic2,DESIdic2f,'DESIhNk')"
   ]
  },
  {
   "cell_type": "markdown",
   "metadata": {},
   "source": [
    "# MMo"
   ]
  },
  {
   "cell_type": "code",
   "execution_count": 15,
   "metadata": {},
   "outputs": [],
   "source": [
    "ztabMMo = np.array([2, 2.5, 3, 3.5, 4, 4.5, 5])"
   ]
  },
  {
   "cell_type": "code",
   "execution_count": 16,
   "metadata": {},
   "outputs": [
    {
     "name": "stdout",
     "output_type": "stream",
     "text": [
      "[0.42020110428341834, 0.36272799579672116, 0.3188745725930256, 0.28440019526018506, 0.2566237923141279, 0.23378307001365814, 0.21467791418721402]\n",
      "[0.9466075281915419, 0.9606657166004892, 0.9687825324004987, 0.9737483708749028, 0.9769321736957642, 0.9790517015436112, 0.9805057101340318]\n"
     ]
    }
   ],
   "source": [
    "getDandf(ztabMMo)"
   ]
  },
  {
   "cell_type": "code",
   "execution_count": 17,
   "metadata": {},
   "outputs": [
    {
     "data": {
      "text/plain": [
       "0.3772115758565943"
      ]
     },
     "execution_count": 17,
     "metadata": {},
     "output_type": "execute_result"
    }
   ],
   "source": [
    "MModic1 = getalldics(2.36,3.044,0.965,0.673, 0.322106,0.02237,0.3,0)\n",
    "MModic1f = getalldicsforf(2.36,3.044,0.965,0.673, 0.322106,0.02237,0.3,0)\n",
    "getD(cosmicdicn(2.36,3.044,0.965,0.673, 0.322106,0.02237,0.3,0))"
   ]
  },
  {
   "cell_type": "code",
   "execution_count": 18,
   "metadata": {},
   "outputs": [],
   "source": [
    "allsavedT(MModic1,MModic1f,'MMo1Nk')"
   ]
  },
  {
   "cell_type": "code",
   "execution_count": 19,
   "metadata": {},
   "outputs": [
    {
     "data": {
      "text/plain": [
       "0.24331182564626264"
      ]
     },
     "execution_count": 19,
     "metadata": {},
     "output_type": "execute_result"
    }
   ],
   "source": [
    "MModic2 = getalldics(4.28,3.044,0.965,0.673, 0.322106,0.02237,0.3,0)\n",
    "MModic2f = getalldicsforf(4.28,3.044,0.965,0.673, 0.322106,0.02237,0.3,0)\n",
    "getD(cosmicdicn(4.28,3.044,0.965,0.673, 0.322106,0.02237,0.3,0))"
   ]
  },
  {
   "cell_type": "code",
   "execution_count": 20,
   "metadata": {},
   "outputs": [],
   "source": [
    "allsavedT(MModic2,MModic2f,'MMo2Nk')"
   ]
  },
  {
   "cell_type": "markdown",
   "metadata": {},
   "source": [
    "# MMp"
   ]
  },
  {
   "cell_type": "code",
   "execution_count": 21,
   "metadata": {},
   "outputs": [],
   "source": [
    "ztabMMp = np.array([2, 3, 4, 5])"
   ]
  },
  {
   "cell_type": "code",
   "execution_count": 22,
   "metadata": {},
   "outputs": [
    {
     "name": "stdout",
     "output_type": "stream",
     "text": [
      "[0.42020110428341834, 0.3188745725930256, 0.2566237923141279, 0.21467791418721402]\n",
      "[0.9466075281915419, 0.9687825324004987, 0.9769321736957642, 0.9805057101340318]\n"
     ]
    }
   ],
   "source": [
    "getDandf(ztabMMp)"
   ]
  },
  {
   "cell_type": "code",
   "execution_count": 23,
   "metadata": {},
   "outputs": [
    {
     "data": {
      "text/plain": [
       "0.4060902797154207"
      ]
     },
     "execution_count": 23,
     "metadata": {},
     "output_type": "execute_result"
    }
   ],
   "source": [
    "MMpdic1 = getalldics(2.11,3.044,0.965,0.673, 0.322106,0.02237,0.3,0)\n",
    "MMpdic1f = getalldicsforf(2.11,3.044,0.965,0.673, 0.322106,0.02237,0.3,0)\n",
    "getD(cosmicdicn(2.11,3.044,0.965,0.673, 0.322106,0.02237,0.3,0))"
   ]
  },
  {
   "cell_type": "code",
   "execution_count": 24,
   "metadata": {},
   "outputs": [],
   "source": [
    "allsavedT(MMpdic1,MMpdic1f,'MMp1Nk')"
   ]
  },
  {
   "cell_type": "code",
   "execution_count": 25,
   "metadata": {},
   "outputs": [
    {
     "data": {
      "text/plain": [
       "0.24421674005370406"
      ]
     },
     "execution_count": 25,
     "metadata": {},
     "output_type": "execute_result"
    }
   ],
   "source": [
    "MMpdic2 = getalldics(4.26,3.044,0.965,0.673, 0.322106,0.02237,0.3,0)\n",
    "MMpdic2f = getalldicsforf(4.26,3.044,0.965,0.673, 0.322106,0.02237,0.3,0)\n",
    "getD(cosmicdicn(4.26,3.044,0.965,0.673, 0.322106,0.02237,0.3,0))"
   ]
  },
  {
   "cell_type": "code",
   "execution_count": 26,
   "metadata": {},
   "outputs": [],
   "source": [
    "allsavedT(MMpdic2,MMpdic2f,'MMp2Nk')"
   ]
  },
  {
   "cell_type": "code",
   "execution_count": null,
   "metadata": {},
   "outputs": [],
   "source": []
  }
 ],
 "metadata": {
  "kernelspec": {
   "display_name": "Python 3 (ipykernel)",
   "language": "python",
   "name": "python3"
  },
  "language_info": {
   "codemirror_mode": {
    "name": "ipython",
    "version": 3
   },
   "file_extension": ".py",
   "mimetype": "text/x-python",
   "name": "python",
   "nbconvert_exporter": "python",
   "pygments_lexer": "ipython3",
   "version": "3.9.15"
  },
  "vscode": {
   "interpreter": {
    "hash": "f9f85f796d01129d0dd105a088854619f454435301f6ffec2fea96ecbd9be4ac"
   }
  }
 },
 "nbformat": 4,
 "nbformat_minor": 4
}
